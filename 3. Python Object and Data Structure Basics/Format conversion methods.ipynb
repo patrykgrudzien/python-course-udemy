{
 "cells": [
  {
   "cell_type": "code",
   "execution_count": 1,
   "metadata": {},
   "outputs": [
    {
     "name": "stdout",
     "output_type": "stream",
     "text": [
      "He said his name was Fred.\n",
      "He said his name was 'Fred'.\n"
     ]
    }
   ],
   "source": [
    "print('He said his name was %s.' %'Fred')\n",
    "print('He said his name was %r.' %'Fred')"
   ]
  },
  {
   "cell_type": "code",
   "execution_count": 2,
   "metadata": {},
   "outputs": [
    {
     "name": "stdout",
     "output_type": "stream",
     "text": [
      "I once caught a fish this \tbig.\n",
      "I once caught a fish 'this \\tbig'.\n"
     ]
    }
   ],
   "source": [
    "print('I once caught a fish %s.' %'this \\tbig')\n",
    "print('I once caught a fish %r.' %'this \\tbig')"
   ]
  },
  {
   "cell_type": "code",
   "execution_count": null,
   "metadata": {},
   "outputs": [],
   "source": []
  }
 ],
 "metadata": {
  "kernelspec": {
   "display_name": "Python 3",
   "language": "python",
   "name": "python3"
  },
  "language_info": {
   "codemirror_mode": {
    "name": "ipython",
    "version": 3
   },
   "file_extension": ".py",
   "mimetype": "text/x-python",
   "name": "python",
   "nbconvert_exporter": "python",
   "pygments_lexer": "ipython3",
   "version": "3.7.4"
  }
 },
 "nbformat": 4,
 "nbformat_minor": 2
}
